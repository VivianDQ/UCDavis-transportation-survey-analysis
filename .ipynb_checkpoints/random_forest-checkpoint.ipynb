{
 "cells": [
  {
   "cell_type": "code",
   "execution_count": 2,
   "metadata": {},
   "outputs": [],
   "source": [
    "import pandas as pd\n",
    "import numpy as np\n",
    "import time\n",
    "import collections\n",
    "\n",
    "from sklearn.model_selection import train_test_split\n",
    "from sklearn.model_selection import StratifiedKFold\n",
    "from sklearn.linear_model import LogisticRegression\n",
    "from sklearn.ensemble import RandomForestClassifier\n",
    "from sklearn.ensemble import GradientBoostingClassifier as boosting\n",
    "from sklearn.model_selection import GridSearchCV\n",
    "from imblearn.pipeline import Pipeline\n",
    "from imblearn.over_sampling import SMOTE\n",
    "from sklearn.metrics import accuracy_score\n",
    "from sklearn.metrics import f1_score\n",
    "from sklearn.metrics import balanced_accuracy_score\n",
    "from imblearn.over_sampling import RandomOverSampler\n",
    "\n",
    "import warnings\n",
    "warnings.filterwarnings('ignore')\n",
    "warnings.filterwarnings(action='ignore', category=DeprecationWarning)\n",
    "warnings.filterwarnings(action='ignore', category=FutureWarning)"
   ]
  },
  {
   "cell_type": "code",
   "execution_count": 3,
   "metadata": {},
   "outputs": [],
   "source": [
    "# Load the data\n",
    "# data_dic = pd.read_csv(\"data/cts1819_data_dictionary.csv\")\n",
    "data = pd.read_csv(\"data/CTS_noID_1819.csv\")"
   ]
  },
  {
   "cell_type": "code",
   "execution_count": 9,
   "metadata": {},
   "outputs": [],
   "source": [
    "np.random.seed(1)"
   ]
  },
  {
   "cell_type": "code",
   "execution_count": 10,
   "metadata": {},
   "outputs": [],
   "source": [
    "class Classify:\n",
    "    def __init__(self):\n",
    "        # self.data = data\n",
    "        self.X = None\n",
    "        self.y = None\n",
    "        \n",
    "    def process_data(self, col, data):\n",
    "        xname = ['primary_role',\n",
    "                'op_travel_wasted',\n",
    "                'op_like_biking',\n",
    "                'op_eco_concern',\n",
    "                'op_like_driving',\n",
    "                'op_need_car',\n",
    "                'op_schedule_transit',\n",
    "                'op_feel_safe',\n",
    "                'op_like_transit',\n",
    "                'op_need_own_car',\n",
    "                'op_limit_driving',\n",
    "                'op_smartphone',\n",
    "                'op_dress_professional',\n",
    "                'op_travel_stress']\n",
    "        data[col].replace(['Personal bike', 'Bike share (e.g. JUMP)'], 'bike', inplace = True)\n",
    "        data[col].replace(['Bus and/or shuttle', 'Train and/or light rail'], 'bus', inplace = True)\n",
    "        data[col].replace(['Lyft, Uber, or other ride-hailing service', 'Carpool and/or vanpool with others', 'Drive alone in a car (or other vehicle)', 'Get dropped off by a friend of family'], 'drive', inplace = True)\n",
    "        data[col].replace(['Walk (or wheelchair)', 'Skate, skateboard, or scooter', 'Other:'], 'other', inplace = True)\n",
    "        \n",
    "        if col == 'lastmile_bus':\n",
    "            data[col].replace(['drive'], 'other', inplace = True)\n",
    "        if col == 'lastmile_train':\n",
    "            data[col].replace(['Get dropped off by a friend or family'], 'drive', inplace = True)\n",
    "            # data[col].replace(['drive'], 'drive&bus', inplace = True)\n",
    "            # data[col].replace(['bus'], 'drive&bus', inplace = True)\n",
    "        if col == 'firstmile_train':\n",
    "            data[col].replace(['bus'], 'other', inplace = True)\n",
    "        \n",
    "        data.replace(['Strongly agree'], 5, inplace = True)\n",
    "        data.replace(['Somewhat agree'], 4, inplace = True)\n",
    "        data.replace(['Neither agree nor disagree'], 3, inplace = True)\n",
    "        data.replace(['Somewhat disagree'], 2, inplace = True)\n",
    "        data.replace(['Strongly disagree'], 1, inplace = True)\n",
    "        \n",
    "        data['primary_role'].replace(['Undergraduate student (including Post-baccalaureate)'], 'undergra', inplace = True)\n",
    "        data['primary_role'].replace(['Graduate student'], 'gra', inplace = True)\n",
    "        data['primary_role'].replace(['Faculty'], 'fac', inplace = True)\n",
    "        data['primary_role'].replace([\"I'm no longer affiliated with UC Davis\", 'Other:'], 'other', inplace = True)\n",
    "        data['primary_role'].replace(['Visiting scholar', 'Staff', 'Post doc'], 'staff', inplace = True)\n",
    "        self.X, self.y = data.dropna(subset=[col] + xname)[xname], data.dropna(subset=[col] + xname)[col]\n",
    "        self.X = pd.get_dummies(self.X)\n",
    "        return self.X, self.y\n",
    "    \n",
    "    def summary(self):\n",
    "        print(collections.Counter(self.y))\n",
    "\n",
    "    def training_process(self, train_X, train_y, parameters, model, criteria = 'balanced_accuracy'):\n",
    "        '''\n",
    "        This function trains several models based on the 'neg_mean_squared_error' (negative mse) from cross-validation on training set \n",
    "        and return trained model, best hyperparameters and performance in training \n",
    "        so that it can be compared with test performance.\n",
    "        The default setting is for classification problems.\n",
    "\n",
    "        Parameters:\n",
    "        ==========================================\n",
    "        train_X: training features, will be fed in sklearn models\n",
    "        train_y: training labels, will be fed in sklearn models\n",
    "        parameters: a dictionary of hyperparameters to choose from. e.g. {[parameter name]:[list of choices]}\n",
    "        model: the basic sklearn model. In this homework, svc()\n",
    "        '''\n",
    "\n",
    "        t1 = time.time()\n",
    "        clf = GridSearchCV(model, parameters, cv=5, scoring=criteria, n_jobs=-1)\n",
    "        clf.fit(train_X, train_y)\n",
    "        t2 = time.time()\n",
    "\n",
    "        print('Training finished! Time usage {}'.format(t2-t1))\n",
    "        best_parameters = clf.cv_results_['params'][clf.best_index_]\n",
    "        best_score = clf.best_score_\n",
    "        return clf, best_parameters, best_score\n",
    "    \n",
    "    def classify(self, parameters, model, criteria):\n",
    "        # model = Pipeline([('sampling', SMOTE()), ('classification', model)])\n",
    "        # X_tr, X_te, y_tr, y_te = train_test_split(self.X, self.y, test_size=0.2, random_state=30, stratify=self.y)\n",
    "        # clf, best_parameters, best_score = self.training_process(X_tr, y_tr, parameters, model, criteria)\n",
    "        clf, best_parameters, best_score = self.training_process(self.X, self.y, parameters, model, criteria)\n",
    "        print(best_parameters, best_score)\n",
    "        # y_pred = clf.predict(X_te)\n",
    "        # y_pred = clf.predict(self.X)\n",
    "        # bacc, acc = balanced_accuracy_score(y_te, y_pred), accuracy_score(y_te, y_pred)\n",
    "        # bacc, acc = balanced_accuracy_score(self.y, y_pred), accuracy_score(self.y, y_pred)\n",
    "        return clf, best_parameters, best_score # , bacc, acc\n",
    "\n"
   ]
  },
  {
   "cell_type": "code",
   "execution_count": 11,
   "metadata": {},
   "outputs": [],
   "source": [
    "def f(colname, criteria):\n",
    "    task = Classify()\n",
    "    X, y = task.process_data(colname, data)\n",
    "    print(X.columns, X.shape)\n",
    "    task.summary()\n",
    "    model_rf = Pipeline([\n",
    "            ('random', RandomOverSampler(random_state = 1)),\n",
    "            # ('sampling', SMOTE()),\n",
    "            ('classification', RandomForestClassifier(random_state = 1))\n",
    "        ])\n",
    "    parameters_rf = {'classification__max_depth':[2,5,10], \n",
    "                  'classification__n_estimators':[50, 100, 200, 500, 1000], \n",
    "                  'classification__min_samples_split':[2]}\n",
    "    \n",
    "    model_log = Pipeline([\n",
    "            ('random', RandomOverSampler(random_state = 1)),\n",
    "            # ('sampling', SMOTE()),\n",
    "            ('classification', LogisticRegression(multi_class = 'ovr', random_state = 1, fit_intercept = False))\n",
    "        ])\n",
    "    parameters_log = [\n",
    "                    {'classification__penalty':['l2'], \n",
    "                      'classification__solver':['lbfgs'],\n",
    "                      'classification__C':list(range(1, 11))},\n",
    "                    {'classification__penalty':['l1'], \n",
    "                      'classification__solver':['liblinear'],\n",
    "                      'classification__C':list(range(1, 11))}\n",
    "                     ]\n",
    "    model_gdbt = Pipeline([\n",
    "        ('random', RandomOverSampler(random_state = 1)),\n",
    "        # ('sampling', SMOTE()),\n",
    "        ('classification', boosting(random_state = 1))\n",
    "    ])\n",
    "    parameters_gdbt = {'classification__max_depth':[2,5], \n",
    "                      'classification__n_estimators':[100, 500, 1000], \n",
    "                      'classification__min_samples_split': [2,4,6], \n",
    "                      'classification__learning_rate': [0.01, 0.1]}\n",
    "    # X_tr, X_te, y_tr, y_te = train_test_split(X, y, test_size=0.2, random_state=30, stratify=y)\n",
    "    \n",
    "    clf_log, best_parameters, best_score_log = task.classify(parameters_log, model_log, criteria) #training_process(X, y, parameters_log, model_log)\n",
    "    clf_rf, best_parameters, best_score_rf = task.classify(parameters_rf, model_rf, criteria) # training_process(X, y, parameters_rf, model_rf)\n",
    "    # clf_gdbt, best_parameters, best_score_gdbt = task.classify(parameters_gdbt, model_gdbt, criteria) # training_process(X, y, parameters_gdbt, model_gdbt)\n",
    "    \n",
    "    # prediction\n",
    "    y_rf, y_log = clf_rf.predict(X), clf_log.predict(X)\n",
    "    # y_gdbt = clf_gdbt.predict(X)\n",
    "    res = {\n",
    "        # 'gdbt': {'best_score': best_score_gdbt, 'balanced_acc': balanced_accuracy_score(y, y_gdbt), 'acc': accuracy_score(y, y_gdbt)},\n",
    "        'rf': {'best_score': best_score_rf, \n",
    "               'balanced_acc': balanced_accuracy_score(y, y_rf), \n",
    "               'acc': accuracy_score(y, y_rf)},\n",
    "        'log': {'best_score': best_score_log, \n",
    "               'balanced_acc': balanced_accuracy_score(y, y_log), \n",
    "               'acc': accuracy_score(y, y_log)}\n",
    "          }\n",
    "    '''\n",
    "    clf_log, best_parameters, best_score_log, bacc_log, acc_log = task.classify(parameters_log, model_log, criteria) #training_process(X, y, parameters_log, model_log)\n",
    "    clf_rf, best_parameters, best_score_rf, bacc_rf, acc_rf = task.classify(parameters_rf, model_rf, criteria) # training_process(X, y, parameters_rf, model_rf)\n",
    "    clf_gdbt, best_parameters, best_score_gdbt, bacc_gdbt, acc_gdbt = task.classify(parameters_gdbt, model_gdbt, criteria) # training_process(X, y, parameters_gdbt, model_gdbt)\n",
    "    res = {\n",
    "        'gdbt': {'best_score': best_score_gdbt, \n",
    "               'balanced_acc': bacc_gdbt,\n",
    "               'acc': acc_gdbt},\n",
    "        'rf': {'best_score': best_score_rf, \n",
    "               'balanced_acc': bacc_rf, \n",
    "               'acc': acc_rf},\n",
    "        'log': {'best_score': best_score_log, \n",
    "               'balanced_acc': bacc_log, \n",
    "               'acc': acc_log}\n",
    "          }\n",
    "    '''\n",
    "    # print(best_score_gdbt, best_score_rf, best_score_log)\n",
    "    return clf_log, clf_rf, res #clf_gdbt, res"
   ]
  },
  {
   "cell_type": "code",
   "execution_count": 12,
   "metadata": {},
   "outputs": [
    {
     "name": "stdout",
     "output_type": "stream",
     "text": [
      "Index(['op_travel_wasted', 'op_like_biking', 'op_eco_concern',\n",
      "       'op_like_driving', 'op_need_car', 'op_schedule_transit', 'op_feel_safe',\n",
      "       'op_like_transit', 'op_need_own_car', 'op_limit_driving',\n",
      "       'op_smartphone', 'op_dress_professional', 'op_travel_stress',\n",
      "       'primary_role_fac', 'primary_role_gra', 'primary_role_staff',\n",
      "       'primary_role_undergra'],\n",
      "      dtype='object') (74, 17)\n",
      "Counter({'drive': 34, 'bike': 21, 'other': 19})\n",
      "Training finished! Time usage 3.952892303466797\n",
      "{'classification__C': 1, 'classification__penalty': 'l1', 'classification__solver': 'liblinear'} 0.44214929214929216\n",
      "Training finished! Time usage 12.566206932067871\n",
      "{'classification__max_depth': 5, 'classification__min_samples_split': 2, 'classification__n_estimators': 1000} 0.5680072930072929\n"
     ]
    },
    {
     "data": {
      "text/plain": [
       "{'rf': {'best_score': 0.5680072930072929,\n",
       "  'balanced_acc': 0.9449112978524742,\n",
       "  'acc': 0.9324324324324325},\n",
       " 'log': {'best_score': 0.44214929214929216,\n",
       "  'balanced_acc': 0.6568381738660377,\n",
       "  'acc': 0.6351351351351351}}"
      ]
     },
     "execution_count": 12,
     "metadata": {},
     "output_type": "execute_result"
    }
   ],
   "source": [
    "np.random.seed(1)\n",
    "c = 'balanced_accuracy'\n",
    "firstmile_train = f('firstmile_train', c)\n",
    "firstmile_train[-1]\n",
    "## random, smote, clf: 59, 54, 41\n",
    "## smote, clf: 59, 55, 39\n",
    "## random, clf: 58, 52, 42\n",
    "## last_round: 45.76, 55.86, 61.28"
   ]
  },
  {
   "cell_type": "code",
   "execution_count": 13,
   "metadata": {},
   "outputs": [
    {
     "name": "stdout",
     "output_type": "stream",
     "text": [
      "Index(['op_travel_wasted', 'op_like_biking', 'op_eco_concern',\n",
      "       'op_like_driving', 'op_need_car', 'op_schedule_transit', 'op_feel_safe',\n",
      "       'op_like_transit', 'op_need_own_car', 'op_limit_driving',\n",
      "       'op_smartphone', 'op_dress_professional', 'op_travel_stress',\n",
      "       'primary_role_fac', 'primary_role_gra', 'primary_role_staff',\n",
      "       'primary_role_undergra'],\n",
      "      dtype='object') (74, 17)\n",
      "Counter({'other': 31, 'bike': 29, 'drive': 7, 'bus': 7})\n",
      "Training finished! Time usage 2.632951021194458\n",
      "{'classification__C': 9, 'classification__penalty': 'l2', 'classification__solver': 'lbfgs'} 0.3807593307593307\n",
      "Training finished! Time usage 9.809956789016724\n",
      "{'classification__max_depth': 2, 'classification__min_samples_split': 2, 'classification__n_estimators': 100} 0.5385778635778635\n"
     ]
    },
    {
     "data": {
      "text/plain": [
       "{'rf': {'best_score': 0.5385778635778635,\n",
       "  'balanced_acc': 0.7587795963769267,\n",
       "  'acc': 0.6486486486486487},\n",
       " 'log': {'best_score': 0.3807593307593307,\n",
       "  'balanced_acc': 0.781304624185603,\n",
       "  'acc': 0.6891891891891891}}"
      ]
     },
     "execution_count": 13,
     "metadata": {},
     "output_type": "execute_result"
    }
   ],
   "source": [
    "np.random.seed(1)\n",
    "# c = 'f1_weighted'\n",
    "c = 'balanced_accuracy'\n",
    "lastmile_train = f('lastmile_train', c)\n",
    "lastmile_train[-1]\n",
    "# order: log - rf - gdbt (reverse)\n",
    "## random, smote, clf: 41, 42, 38\n",
    "## smote, clf: error\n",
    "## random, clf: 38, 40, 39\n",
    "# order: log - rf - gdbt\n",
    "## last_round: 39.33, 39.04, 41.83"
   ]
  },
  {
   "cell_type": "code",
   "execution_count": 14,
   "metadata": {},
   "outputs": [
    {
     "name": "stdout",
     "output_type": "stream",
     "text": [
      "Index(['op_travel_wasted', 'op_like_biking', 'op_eco_concern',\n",
      "       'op_like_driving', 'op_need_car', 'op_schedule_transit', 'op_feel_safe',\n",
      "       'op_like_transit', 'op_need_own_car', 'op_limit_driving',\n",
      "       'op_smartphone', 'op_dress_professional', 'op_travel_stress',\n",
      "       'primary_role_fac', 'primary_role_gra', 'primary_role_other',\n",
      "       'primary_role_staff', 'primary_role_undergra'],\n",
      "      dtype='object') (898, 18)\n",
      "Counter({'other': 806, 'bike': 79, 'bus': 13})\n",
      "Training finished! Time usage 6.127340078353882\n",
      "{'classification__C': 1, 'classification__penalty': 'l2', 'classification__solver': 'lbfgs'} 0.35700228732954437\n",
      "Training finished! Time usage 17.985891819000244\n",
      "{'classification__max_depth': 2, 'classification__min_samples_split': 2, 'classification__n_estimators': 200} 0.5053227999672326\n"
     ]
    },
    {
     "data": {
      "text/plain": [
       "{'rf': {'best_score': 0.5053227999672326,\n",
       "  'balanced_acc': 0.6063542419197789,\n",
       "  'acc': 0.35523385300668153},\n",
       " 'log': {'best_score': 0.35700228732954437,\n",
       "  'balanced_acc': 0.578388876673891,\n",
       "  'acc': 0.3619153674832962}}"
      ]
     },
     "execution_count": 14,
     "metadata": {},
     "output_type": "execute_result"
    }
   ],
   "source": [
    "np.random.seed(1)\n",
    "c = 'balanced_accuracy'\n",
    "lastmile_bus = f('lastmile_bus', c)\n",
    "lastmile_bus[-1]\n",
    "## random, smote, clf: 44, 50, 41\n",
    "## smote, clf: 39, 48, 40\n",
    "## random, clf: 43, 52, 40\n",
    "## last_round: 40.75, 54.74, 45.23"
   ]
  },
  {
   "cell_type": "code",
   "execution_count": 15,
   "metadata": {},
   "outputs": [
    {
     "name": "stdout",
     "output_type": "stream",
     "text": [
      "Index(['op_travel_wasted', 'op_like_biking', 'op_eco_concern',\n",
      "       'op_like_driving', 'op_need_car', 'op_schedule_transit', 'op_feel_safe',\n",
      "       'op_like_transit', 'op_need_own_car', 'op_limit_driving',\n",
      "       'op_smartphone', 'op_dress_professional', 'op_travel_stress',\n",
      "       'primary_role_fac', 'primary_role_gra', 'primary_role_other',\n",
      "       'primary_role_staff', 'primary_role_undergra'],\n",
      "      dtype='object') (898, 18)\n",
      "Counter({'other': 786, 'bike': 48, 'bus': 38, 'drive': 26})\n",
      "Training finished! Time usage 8.873852968215942\n",
      "{'classification__C': 10, 'classification__penalty': 'l2', 'classification__solver': 'lbfgs'} 0.25621256658888303\n",
      "Training finished! Time usage 19.450459003448486\n",
      "{'classification__max_depth': 2, 'classification__min_samples_split': 2, 'classification__n_estimators': 200} 0.3246422479006967\n"
     ]
    },
    {
     "data": {
      "text/plain": [
       "{'rf': {'best_score': 0.3246422479006967,\n",
       "  'balanced_acc': 0.4585813798662834,\n",
       "  'acc': 0.24276169265033407},\n",
       " 'log': {'best_score': 0.25621256658888303,\n",
       "  'balanced_acc': 0.4182352672270812,\n",
       "  'acc': 0.4443207126948775}}"
      ]
     },
     "execution_count": 15,
     "metadata": {},
     "output_type": "execute_result"
    }
   ],
   "source": [
    "np.random.seed(1)\n",
    "c = 'balanced_accuracy'\n",
    "firstmile_bus = f('firstmile_bus', c)\n",
    "firstmile_bus[-1]\n",
    "## random, smote, clf: 37, 30, 28\n",
    "## smote, clf: 31, 32, 29\n",
    "## random, clf: 34, 34, 27\n",
    "## last_round: 29.6, 32.8, "
   ]
  },
  {
   "cell_type": "code",
   "execution_count": null,
   "metadata": {
    "collapsed": true
   },
   "outputs": [],
   "source": []
  },
  {
   "cell_type": "code",
   "execution_count": null,
   "metadata": {
    "collapsed": true
   },
   "outputs": [],
   "source": []
  },
  {
   "cell_type": "code",
   "execution_count": null,
   "metadata": {
    "collapsed": true
   },
   "outputs": [],
   "source": []
  },
  {
   "cell_type": "code",
   "execution_count": null,
   "metadata": {
    "collapsed": true
   },
   "outputs": [],
   "source": []
  },
  {
   "cell_type": "code",
   "execution_count": null,
   "metadata": {
    "collapsed": true
   },
   "outputs": [],
   "source": []
  },
  {
   "cell_type": "code",
   "execution_count": null,
   "metadata": {
    "collapsed": true
   },
   "outputs": [],
   "source": []
  },
  {
   "cell_type": "code",
   "execution_count": null,
   "metadata": {
    "collapsed": true
   },
   "outputs": [],
   "source": []
  },
  {
   "cell_type": "code",
   "execution_count": null,
   "metadata": {
    "collapsed": true
   },
   "outputs": [],
   "source": []
  },
  {
   "cell_type": "code",
   "execution_count": null,
   "metadata": {
    "collapsed": true
   },
   "outputs": [],
   "source": []
  },
  {
   "cell_type": "code",
   "execution_count": null,
   "metadata": {
    "collapsed": true
   },
   "outputs": [],
   "source": []
  }
 ],
 "metadata": {
  "kernelspec": {
   "display_name": "Python 3",
   "language": "python",
   "name": "python3"
  },
  "language_info": {
   "codemirror_mode": {
    "name": "ipython",
    "version": 3
   },
   "file_extension": ".py",
   "mimetype": "text/x-python",
   "name": "python",
   "nbconvert_exporter": "python",
   "pygments_lexer": "ipython3",
   "version": "3.6.10"
  }
 },
 "nbformat": 4,
 "nbformat_minor": 2
}
